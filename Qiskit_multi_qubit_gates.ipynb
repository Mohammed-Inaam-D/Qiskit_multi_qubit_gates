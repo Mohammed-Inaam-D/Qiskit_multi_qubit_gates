{
  "nbformat": 4,
  "nbformat_minor": 0,
  "metadata": {
    "colab": {
      "provenance": []
    },
    "kernelspec": {
      "name": "python3",
      "display_name": "Python 3"
    },
    "language_info": {
      "name": "python"
    }
  },
  "cells": [
    {
      "cell_type": "code",
      "source": [
        "!pip install qiskit qiskit-aer --upgrade"
      ],
      "metadata": {
        "id": "Mx6284lurNt1",
        "outputId": "7f8a61a1-a30e-47c1-98aa-206f05c215a9",
        "colab": {
          "base_uri": "https://localhost:8080/"
        }
      },
      "execution_count": 3,
      "outputs": [
        {
          "output_type": "stream",
          "name": "stdout",
          "text": [
            "Requirement already satisfied: qiskit in /usr/local/lib/python3.12/dist-packages (2.2.1)\n",
            "Requirement already satisfied: qiskit-aer in /usr/local/lib/python3.12/dist-packages (0.17.2)\n",
            "Requirement already satisfied: rustworkx>=0.15.0 in /usr/local/lib/python3.12/dist-packages (from qiskit) (0.17.1)\n",
            "Requirement already satisfied: numpy<3,>=1.17 in /usr/local/lib/python3.12/dist-packages (from qiskit) (2.0.2)\n",
            "Requirement already satisfied: scipy>=1.5 in /usr/local/lib/python3.12/dist-packages (from qiskit) (1.16.2)\n",
            "Requirement already satisfied: dill>=0.3 in /usr/local/lib/python3.12/dist-packages (from qiskit) (0.3.8)\n",
            "Requirement already satisfied: stevedore>=3.0.0 in /usr/local/lib/python3.12/dist-packages (from qiskit) (5.5.0)\n",
            "Requirement already satisfied: typing-extensions in /usr/local/lib/python3.12/dist-packages (from qiskit) (4.15.0)\n",
            "Requirement already satisfied: psutil>=5 in /usr/local/lib/python3.12/dist-packages (from qiskit-aer) (5.9.5)\n",
            "Requirement already satisfied: python-dateutil>=2.8.0 in /usr/local/lib/python3.12/dist-packages (from qiskit-aer) (2.9.0.post0)\n",
            "Requirement already satisfied: six>=1.5 in /usr/local/lib/python3.12/dist-packages (from python-dateutil>=2.8.0->qiskit-aer) (1.17.0)\n"
          ]
        }
      ]
    },
    {
      "cell_type": "code",
      "execution_count": 4,
      "metadata": {
        "id": "VPOwLacGrCdU",
        "outputId": "e77ac2b5-e3f7-408b-d956-ef8bd4cfa0cd",
        "colab": {
          "base_uri": "https://localhost:8080/"
        }
      },
      "outputs": [
        {
          "output_type": "stream",
          "name": "stdout",
          "text": [
            "Quantum Circuit:\n",
            "        ┌───┐            ░ ┌─┐   \n",
            "   q_0: ┤ H ├──■───■──X──░─┤M├───\n",
            "        └───┘┌─┴─┐ │  │  ░ └╥┘┌─┐\n",
            "   q_1: ─────┤ X ├─■──X──░──╫─┤M├\n",
            "             └───┘       ░  ║ └╥┘\n",
            "   c: 2/════════════════════╬══╬═\n",
            "                            ║  ║ \n",
            "meas: 2/════════════════════╩══╩═\n",
            "                            0  1 \n",
            "\n",
            "Measurement Counts: {'00 00': 513, '11 00': 511}\n"
          ]
        }
      ],
      "source": [
        "from qiskit import QuantumCircuit, transpile\n",
        "from qiskit_aer import AerSimulator\n",
        "\n",
        "# Initialize simulator\n",
        "sim = AerSimulator()\n",
        "\n",
        "# Create a 2-qubit circuit\n",
        "qc = QuantumCircuit(2, 2)\n",
        "\n",
        "# --- Apply multi-qubit gates ---\n",
        "qc.h(0)        # Hadamard on qubit 0\n",
        "qc.cx(0, 1)    # CNOT with control 0 and target 1\n",
        "qc.cz(0, 1)    # Controlled-Z\n",
        "qc.swap(0, 1)  # Swap qubit 0 and 1\n",
        "\n",
        "# Measure all qubits\n",
        "qc.measure_all()\n",
        "\n",
        "# Display circuit\n",
        "print(\"Quantum Circuit:\")\n",
        "print( qc.draw())\n",
        "\n",
        "# Run simulation\n",
        "compiled = transpile(qc, sim)\n",
        "result = sim.run(compiled, shots=1024).result()\n",
        "\n",
        "# Display results\n",
        "counts = result.get_counts()\n",
        "print(\"\\nMeasurement Counts:\", counts)\n"
      ]
    },
    {
      "cell_type": "markdown",
      "source": [
        "# **TASK** **1**"
      ],
      "metadata": {
        "id": "D8gHKQ41OUa4"
      }
    },
    {
      "cell_type": "code",
      "source": [
        "qc_varied = QuantumCircuit(2, 2)\n",
        "\n",
        "# --- Apply multi-qubit gates with varied controls ---\n",
        "qc_varied.h(0)\n",
        "qc_varied.cx(1, 0)    # CNOT with control 1 and target 0\n",
        "qc_varied.cz(1, 0)    # Controlled-Z with control 1 and target 0\n",
        "qc_varied.swap(0, 1)\n",
        "\n",
        "# Measure all qubits\n",
        "qc_varied.measure_all()\n",
        "\n",
        "# Display circuit\n",
        "print(\"Quantum Circuit (Varied Control):\")\n",
        "print(qc_varied.draw())\n",
        "\n",
        "# Run simulation\n",
        "compiled = transpile(qc_varied, sim)\n",
        "result = sim.run(compiled, shots=1024).result()\n",
        "\n",
        "# Display results\n",
        "counts = result.get_counts()\n",
        "print(\"\\nMeasurement Counts:\", counts)\n"
      ],
      "metadata": {
        "id": "dAdm0jCyOim3",
        "outputId": "73646797-82b4-49a2-d5f3-50d44f04c296",
        "colab": {
          "base_uri": "https://localhost:8080/"
        }
      },
      "execution_count": 5,
      "outputs": [
        {
          "output_type": "stream",
          "name": "stdout",
          "text": [
            "Quantum Circuit (Varied Control):\n",
            "        ┌───┐┌───┐       ░ ┌─┐   \n",
            "   q_0: ┤ H ├┤ X ├─■──X──░─┤M├───\n",
            "        └───┘└─┬─┘ │  │  ░ └╥┘┌─┐\n",
            "   q_1: ───────■───■──X──░──╫─┤M├\n",
            "                         ░  ║ └╥┘\n",
            "   c: 2/════════════════════╬══╬═\n",
            "                            ║  ║ \n",
            "meas: 2/════════════════════╩══╩═\n",
            "                            0  1 \n",
            "\n",
            "Measurement Counts: {'10 00': 518, '00 00': 506}\n"
          ]
        }
      ]
    },
    {
      "cell_type": "markdown",
      "source": [
        "# ***TASK 2***"
      ],
      "metadata": {
        "id": "gelm-bcPPE3X"
      }
    },
    {
      "cell_type": "code",
      "source": [
        "\n",
        "# Create a 2-qubit circuit\n",
        "qc_removed = QuantumCircuit(2, 2)\n",
        "\n",
        "# --- Apply multi-qubit gates (SWAP removed) ---\n",
        "qc_removed.h(0)\n",
        "qc_removed.cx(0, 1)\n",
        "qc_removed.cz(0, 1)\n",
        "# qc_removed.swap(0, 1) # SWAP gate is removed\n",
        "\n",
        "# Measure all qubits\n",
        "qc_removed.measure_all()\n",
        "\n",
        "# Display circuit\n",
        "print(\"Quantum Circuit (SWAP Removed):\")\n",
        "print(qc_removed.draw())\n",
        "\n",
        "# Run simulation\n",
        "compiled = transpile(qc_removed, sim)\n",
        "result = sim.run(compiled, shots=1024).result()\n",
        "\n",
        "# Display results\n",
        "counts = result.get_counts()\n",
        "print(\"\\nMeasurement Counts:\", counts)\n"
      ],
      "metadata": {
        "id": "Y-LCIJx9PLed",
        "outputId": "6022407d-7fff-4f4e-ad3a-541f722e3dda",
        "colab": {
          "base_uri": "https://localhost:8080/"
        }
      },
      "execution_count": 6,
      "outputs": [
        {
          "output_type": "stream",
          "name": "stdout",
          "text": [
            "Quantum Circuit (SWAP Removed):\n",
            "        ┌───┐         ░ ┌─┐   \n",
            "   q_0: ┤ H ├──■───■──░─┤M├───\n",
            "        └───┘┌─┴─┐ │  ░ └╥┘┌─┐\n",
            "   q_1: ─────┤ X ├─■──░──╫─┤M├\n",
            "             └───┘    ░  ║ └╥┘\n",
            "   c: 2/═════════════════╬══╬═\n",
            "                         ║  ║ \n",
            "meas: 2/═════════════════╩══╩═\n",
            "                         0  1 \n",
            "\n",
            "Measurement Counts: {'00 00': 518, '11 00': 506}\n"
          ]
        }
      ]
    },
    {
      "cell_type": "markdown",
      "source": [
        "# ***TASK 3***"
      ],
      "metadata": {
        "id": "7-x1G0M6P6yR"
      }
    },
    {
      "cell_type": "code",
      "source": [
        "qc_hadamard = QuantumCircuit(2, 2)\n",
        "\n",
        "# --- Apply multi-qubit gates (extra Hadamard) ---\n",
        "qc_hadamard.h(0)\n",
        "qc_hadamard.h(1)      # Added Hadamard on qubit 1\n",
        "qc_hadamard.cx(0, 1)\n",
        "qc_hadamard.cz(0, 1)\n",
        "qc_hadamard.swap(0, 1)\n",
        "\n",
        "# Measure all qubits\n",
        "qc_hadamard.measure_all()\n",
        "\n",
        "# Display circuit\n",
        "print(\"Quantum Circuit (Extra Hadamard):\")\n",
        "print(qc_hadamard.draw())\n",
        "\n",
        "# Run simulation\n",
        "compiled = transpile(qc_hadamard, sim)\n",
        "result = sim.run(compiled, shots=1024).result()\n",
        "\n",
        "# Display results\n",
        "counts = result.get_counts()\n",
        "print(\"\\nMeasurement Counts:\", counts)\n"
      ],
      "metadata": {
        "id": "k4Z23ol3P_5O",
        "outputId": "22ace505-b0d1-43bf-8b9f-b42467767fa3",
        "colab": {
          "base_uri": "https://localhost:8080/"
        }
      },
      "execution_count": 7,
      "outputs": [
        {
          "output_type": "stream",
          "name": "stdout",
          "text": [
            "Quantum Circuit (Extra Hadamard):\n",
            "        ┌───┐            ░ ┌─┐   \n",
            "   q_0: ┤ H ├──■───■──X──░─┤M├───\n",
            "        ├───┤┌─┴─┐ │  │  ░ └╥┘┌─┐\n",
            "   q_1: ┤ H ├┤ X ├─■──X──░──╫─┤M├\n",
            "        └───┘└───┘       ░  ║ └╥┘\n",
            "   c: 2/════════════════════╬══╬═\n",
            "                            ║  ║ \n",
            "meas: 2/════════════════════╩══╩═\n",
            "                            0  1 \n",
            "\n",
            "Measurement Counts: {'00 00': 272, '11 00': 249, '10 00': 258, '01 00': 245}\n"
          ]
        }
      ]
    }
  ]
}